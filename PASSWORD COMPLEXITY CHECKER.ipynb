{
 "cells": [
  {
   "cell_type": "code",
   "execution_count": 2,
   "id": "af515f0d",
   "metadata": {},
   "outputs": [
    {
     "name": "stdout",
     "output_type": "stream",
     "text": [
      "Enter your password: GAYUTHECOOL\n",
      "Very weak password\n"
     ]
    }
   ],
   "source": [
    "def check_password_strength(password):\n",
    "    length = len(password)\n",
    "    if length < 8:\n",
    "        return 0\n",
    "\n",
    "    has_upper = any(c.isupper() for c in password)\n",
    "    has_lower = any(c.islower() for c in password)\n",
    "    has_digit = any(c.isdigit() for c in password)\n",
    "    has_special = any(not c.isalnum() for c in password)\n",
    "\n",
    "    strength = 0\n",
    "    if has_upper and has_lower:\n",
    "        strength += 1\n",
    "    if has_digit:\n",
    "        strength += 1\n",
    "    if has_special:\n",
    "        strength += 1\n",
    "\n",
    "    return strength\n",
    "\n",
    "def main():\n",
    "    password = input(\"Enter your password: \")\n",
    "    strength = check_password_strength(password)\n",
    "\n",
    "    if strength == 0:\n",
    "        print(\"Very weak password\")\n",
    "    elif strength == 1:\n",
    "        print(\"Weak password\")\n",
    "    elif strength == 2:\n",
    "        print(\"Moderate password\")\n",
    "    elif strength == 3:\n",
    "        print(\"Strong password\")\n",
    "    else:\n",
    "        print(\"Very strong password\")\n",
    "\n",
    "if __name__ == \"__main__\":\n",
    "    main()\n"
   ]
  },
  {
   "cell_type": "code",
   "execution_count": null,
   "id": "6515534f",
   "metadata": {},
   "outputs": [],
   "source": []
  }
 ],
 "metadata": {
  "kernelspec": {
   "display_name": "Python 3 (ipykernel)",
   "language": "python",
   "name": "python3"
  },
  "language_info": {
   "codemirror_mode": {
    "name": "ipython",
    "version": 3
   },
   "file_extension": ".py",
   "mimetype": "text/x-python",
   "name": "python",
   "nbconvert_exporter": "python",
   "pygments_lexer": "ipython3",
   "version": "3.11.5"
  }
 },
 "nbformat": 4,
 "nbformat_minor": 5
}
